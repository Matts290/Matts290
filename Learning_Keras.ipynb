{
  "nbformat": 4,
  "nbformat_minor": 0,
  "metadata": {
    "colab": {
      "private_outputs": true,
      "provenance": [],
      "authorship_tag": "ABX9TyPZySdjqCAjD+2f9NGCCMgD",
      "include_colab_link": true
    },
    "kernelspec": {
      "name": "python3",
      "display_name": "Python 3"
    },
    "language_info": {
      "name": "python"
    }
  },
  "cells": [
    {
      "cell_type": "markdown",
      "metadata": {
        "id": "view-in-github",
        "colab_type": "text"
      },
      "source": [
        "<a href=\"https://colab.research.google.com/github/Matts290/Matts290/blob/main/Learning_Keras.ipynb\" target=\"_parent\"><img src=\"https://colab.research.google.com/assets/colab-badge.svg\" alt=\"Open In Colab\"/></a>"
      ]
    },
    {
      "cell_type": "code",
      "execution_count": null,
      "metadata": {
        "id": "vNmv-U50ADaq"
      },
      "outputs": [],
      "source": [
        "from tensorflow import keras\n",
        "import tensorflow as tf\n",
        "from tensorflow.keras import layers\n",
        "import keras.models\n",
        "from keras.models import Sequential , Model\n",
        "from keras.layers import Activation , Dense , Input , Flatten , Dropout\n",
        "from sklearn.model_selection import train_test_split\n",
        "from sklearn.preprocessing import StandardScaler"
      ]
    },
    {
      "cell_type": "markdown",
      "source": [
        "#Sequential Model"
      ],
      "metadata": {
        "id": "TI37LPtx9Hg2"
      }
    },
    {
      "cell_type": "markdown",
      "source": [
        "###Here the number of input features are 3 , however the first layer has 4 neurons. The number of features not necessarily be the first layer of neurons."
      ],
      "metadata": {
        "id": "7QRL_xZNAL9k"
      }
    },
    {
      "cell_type": "code",
      "source": [
        "#Approach 1\n",
        "model = Sequential()\n",
        "model.add(Dense(4,activation='relu',input_shape=(3,),name='hidden1'))\n",
        "model.add(Dense(4,activation='relu',name='hidden2'))\n",
        "model.add(Dense(2,activation='softmax',name='output'))\n",
        "model.summary()"
      ],
      "metadata": {
        "id": "3Mas3xZ6AZAo"
      },
      "execution_count": null,
      "outputs": []
    },
    {
      "cell_type": "code",
      "source": [
        "#Approach 2\n",
        "model = Sequential([\n",
        "    Dense(4,activation='relu',input_shape=(3,),name='hidden1'),\n",
        "    Dense(4,activation='relu',name='hidden2'),\n",
        "    Dense(2,activation='softmax',name='output')\n",
        "])\n",
        "model.summary()"
      ],
      "metadata": {
        "id": "Js_0Cf3s_uls"
      },
      "execution_count": null,
      "outputs": []
    },
    {
      "cell_type": "code",
      "source": [],
      "metadata": {
        "id": "fq7CLqFbAtX8"
      },
      "execution_count": null,
      "outputs": []
    }
  ]
}